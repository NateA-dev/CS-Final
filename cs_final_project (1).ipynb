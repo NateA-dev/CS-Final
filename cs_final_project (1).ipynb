{
  "nbformat": 4,
  "nbformat_minor": 0,
  "metadata": {
    "colab": {
      "provenance": []
    },
    "kernelspec": {
      "name": "python3",
      "display_name": "Python 3"
    },
    "language_info": {
      "name": "python"
    }
  },
  "cells": [
    {
      "cell_type": "code",
      "execution_count": null,
      "metadata": {
        "id": "QloT8r10Vzgw",
        "colab": {
          "base_uri": "https://localhost:8080/",
          "height": 542
        },
        "outputId": "84d2df7e-8d61-44b8-b68d-32f366d60c26"
      },
      "outputs": [
        {
          "output_type": "display_data",
          "data": {
            "text/html": [
              "<html>\n",
              "<head><meta charset=\"utf-8\" /></head>\n",
              "<body>\n",
              "    <div>            <script src=\"https://cdnjs.cloudflare.com/ajax/libs/mathjax/2.7.5/MathJax.js?config=TeX-AMS-MML_SVG\"></script><script type=\"text/javascript\">if (window.MathJax && window.MathJax.Hub && window.MathJax.Hub.Config) {window.MathJax.Hub.Config({SVG: {font: \"STIX-Web\"}});}</script>                <script type=\"text/javascript\">window.PlotlyConfig = {MathJaxConfig: 'local'};</script>\n",
              "        <script charset=\"utf-8\" src=\"https://cdn.plot.ly/plotly-2.35.2.min.js\"></script>                <div id=\"8fa8a2d3-dfa2-4daa-8d11-baf95228d71b\" class=\"plotly-graph-div\" style=\"height:525px; width:100%;\"></div>            <script type=\"text/javascript\">                                    window.PLOTLYENV=window.PLOTLYENV || {};                                    if (document.getElementById(\"8fa8a2d3-dfa2-4daa-8d11-baf95228d71b\")) {                    Plotly.newPlot(                        \"8fa8a2d3-dfa2-4daa-8d11-baf95228d71b\",                        [{\"name\":\"Adriatic Sea\",\"visible\":\"legendonly\",\"x\":[1992,1993,1994,1995,1996,1997,1998,1999,2000,2001,2002,2003,2004,2005,2006,2007,2008,2009,2010,2011,2012,2013,2014,2015,2016,2017,2018,2019,2020,2021,2022,2023,2024],\"y\":[104.41,73.18764706,102.0788235,98.13451613,120.4523529,123.8821212,127.7730303,123.8215152,136.9523529,139.0785714,137.576338,118.4167123,129.3868056,104.7270769,117.8722222,110.0111111,117.9288889,141.3165278,179.9660811,143.2656164,135.6027536,158.3537736,177.2781081,158.4105405,156.803,121.6118,184.0345946,165.4685714,165.5956757,160.1632432,156.8758904,184.0785714,194.3014286],\"type\":\"scatter\"},{\"legendrank\":4,\"name\":\"Indian Ocean\",\"x\":[1992,1993,1994,1995,1996,1997,1998,1999,2000,2001,2002,2003,2004,2005,2006,2007,2008,2009,2010,2011,2012,2013,2014,2015,2016,2017,2018,2019,2020,2021,2022,2023,2024],\"y\":[97.22,97.53764706,100.3611765,106.3845161,106.8052941,111.0018182,119.4715152,111.0472727,112.6817647,119.8977778,121.8378571,124.7606849,124.8779167,127.2395385,135.7883333,139.7489189,146.8466667,145.8360811,156.1914865,153.1032877,162.1524638,161.8148214,162.5744444,172.6313514,164.348,168.0729412,168.7,178.9189189,181.9527027,179.9695946,189.5858108,194.4421429,204.4457143],\"type\":\"scatter\"},{\"legendrank\":3,\"name\":\"Mediterranean Sea\",\"x\":[1992,1993,1994,1995,1996,1997,1998,1999,2000,2001,2002,2003,2004,2005,2006,2007,2008,2009,2010,2011,2012,2013,2014,2015,2016,2017,2018,2019,2020,2021,2022,2023,2024],\"y\":[131.35,86.27941176,103.3294118,106.3625,129.2272727,127.0060606,119.1454545,119.4090909,118.3088235,120.1305556,131.2642857,120.8008219,127.3369444,113.9255385,126.1188889,116.0881081,144.1018868,135.6894521,173.815,130.9976712,145.1204348,143.9066071,154.0444444,135.2608108,162.4505714,136.2962745,180.8651351,167.1083784,181.3021622,176.2366216,176.050411,199.2721429,190.3085714],\"type\":\"scatter\"},{\"legendrank\":2,\"name\":\"Atlantic Ocean\",\"x\":[1992,1993,1994,1995,1996,1997,1998,1999,2000,2001,2002,2003,2004,2005,2006,2007,2008,2009,2010,2011,2012,2013,2014,2015,2016,2017,2018,2019,2020,2021,2022,2023,2024],\"y\":[104.23,98.38882353,101.88,108.6477419,109.7182353,112.4739394,117.349697,113.6224242,115.0388235,119.9485714,121.4729577,131.8550685,130.7491667,134.6643077,135.7172222,135.1308108,139.1218519,142.2909459,143.6044595,143.27,150.9786957,152.0798214,154.1366667,162.2591892,165.794,170.5723529,176.6948649,185.2678378,183.6659459,189.6760811,189.6004054,196.6492857,192.0357143],\"type\":\"scatter\"},{\"legendrank\":1,\"name\":\"Pacific Ocean\",\"x\":[1992,1993,1994,1995,1996,1997,1998,1999,2000,2001,2002,2003,2004,2005,2006,2007,2008,2009,2010,2011,2012,2013,2014,2015,2016,2017,2018,2019,2020,2021,2022,2023,2024],\"y\":[94.34,98.05470588,103.6635294,106.5141935,111.4635294,119.0157576,109.4248485,110.3733333,117.5252941,123.8011111,127.9014286,126.5838356,131.1802778,133.9292308,135.6761111,134.1886486,136.3788889,140.4290411,136.24,135.4632877,148.9066667,148.8042857,157.5927778,167.5778378,171.71,169.6341176,175.0859459,180.1562162,180.5483784,185.2071622,184.9436486,193.7407143,180.0114286],\"type\":\"scatter\"},{\"legendrank\":0,\"line\":{\"dash\":\"dash\"},\"name\":\"World\",\"visible\":\"legendonly\",\"x\":[1992,1993,1994,1995,1996,1997,1998,1999,2000,2001,2002,2003,2004,2005,2006,2007,2008,2009,2010,2011,2012,2013,2014,2015,2016,2017,2018,2019,2020,2021,2022,2023,2024],\"y\":[99.52,96.98470588,101.6817647,107.103871,110.6523529,114.6593939,113.7624242,112.7957576,117.0670588,122.4033333,124.3085714,127.6758904,129.3155556,131.5735385,134.9711111,135.1518919,140.4667308,142.8853425,144.2512162,142.5168493,153.4157971,154.2301923,158.2655556,167.0045946,170.4625714,170.4809804,174.2402703,180.6348649,183.357027,188.0475676,190.3340541,196.2259459,193.7756522],\"type\":\"scatter\"},{\"name\":\"Gulf of Mexico\",\"visible\":\"legendonly\",\"x\":[1992,1993,1994,1995,1996,1997,1998,1999,2000,2001,2002,2003,2004,2005,2006,2007,2008,2009,2010,2011,2012,2013,2014,2015,2016,2017,2018,2019,2020,2021,2022,2023,2024],\"y\":[109.17,108.6582353,100.9170588,115.560625,84.75636364,102.3260606,111.4018182,131.8775758,125.0552941,116.1283333,138.1314286,138.3010959,132.7022222,141.7064615,119.1188889,138.3232432,159.0332075,161.8050685,124.7087838,134.6009589,178.6166667,148.6394643,168.32,196.8078378,214.6015714,190.9345098,195.8994595,225.4183784,226.7691892,215.9772973,245.1654795,249.7957143,151.3228571],\"type\":\"scatter\"},{\"name\":\"Sea of Japan\",\"visible\":\"legendonly\",\"x\":[1992,1993,1994,1995,1996,1997,1998,1999,2000,2001,2002,2003,2004,2005,2006,2007,2008,2009,2010,2011,2012,2013,2014,2015,2016,2017,2018,2019,2020,2021,2022,2023,2024],\"y\":[81.88,85.68588235,111.9094118,99.645625,93.14969697,110.049697,121.5284848,139.1072727,127.5594118,120.9327778,133.4171429,137.1547945,150.9627778,110.0686154,120.0544444,141.2086486,139.4875472,140.9793056,152.1598649,133.3708219,167.2004348,131.7955357,167.7161111,150.6110811,202.0905714,170.9272549,161.0208108,186.8505405,198.5059459,211.4377027,209.6750685,213.4878571,149.9657143],\"type\":\"scatter\"},{\"name\":\"Baltic Sea\",\"visible\":\"legendonly\",\"x\":[1992,1993,1994,1995,1996,1997,1998,1999,2000,2001,2002,2003,2004,2005,2006,2007,2008,2009,2010,2011,2012,2013,2014,2015,2016,2017,2018,2019,2020,2021,2022,2023,2024],\"y\":[333.09,79.72529412,104.2076471,142.299375,8.177878788,114.7657576,150.7445455,109.2051515,147.9811765,109.8427778,110.2014286,110.5080822,157.9819444,160.4303077,115.8,238.2094595,188.9292453,112.0356164,70.65608108,187.6109589,217.0971014,83.90267857,103.5333333,259.8783784,172.8417143,236.234902,151.512973,197.2291892,292.9948649,188.4090541,243.2223288,239.085,308.18],\"type\":\"scatter\"}],                        {\"template\":{\"data\":{\"histogram2dcontour\":[{\"type\":\"histogram2dcontour\",\"colorbar\":{\"outlinewidth\":0,\"ticks\":\"\"},\"colorscale\":[[0.0,\"#0d0887\"],[0.1111111111111111,\"#46039f\"],[0.2222222222222222,\"#7201a8\"],[0.3333333333333333,\"#9c179e\"],[0.4444444444444444,\"#bd3786\"],[0.5555555555555556,\"#d8576b\"],[0.6666666666666666,\"#ed7953\"],[0.7777777777777778,\"#fb9f3a\"],[0.8888888888888888,\"#fdca26\"],[1.0,\"#f0f921\"]]}],\"choropleth\":[{\"type\":\"choropleth\",\"colorbar\":{\"outlinewidth\":0,\"ticks\":\"\"}}],\"histogram2d\":[{\"type\":\"histogram2d\",\"colorbar\":{\"outlinewidth\":0,\"ticks\":\"\"},\"colorscale\":[[0.0,\"#0d0887\"],[0.1111111111111111,\"#46039f\"],[0.2222222222222222,\"#7201a8\"],[0.3333333333333333,\"#9c179e\"],[0.4444444444444444,\"#bd3786\"],[0.5555555555555556,\"#d8576b\"],[0.6666666666666666,\"#ed7953\"],[0.7777777777777778,\"#fb9f3a\"],[0.8888888888888888,\"#fdca26\"],[1.0,\"#f0f921\"]]}],\"heatmap\":[{\"type\":\"heatmap\",\"colorbar\":{\"outlinewidth\":0,\"ticks\":\"\"},\"colorscale\":[[0.0,\"#0d0887\"],[0.1111111111111111,\"#46039f\"],[0.2222222222222222,\"#7201a8\"],[0.3333333333333333,\"#9c179e\"],[0.4444444444444444,\"#bd3786\"],[0.5555555555555556,\"#d8576b\"],[0.6666666666666666,\"#ed7953\"],[0.7777777777777778,\"#fb9f3a\"],[0.8888888888888888,\"#fdca26\"],[1.0,\"#f0f921\"]]}],\"heatmapgl\":[{\"type\":\"heatmapgl\",\"colorbar\":{\"outlinewidth\":0,\"ticks\":\"\"},\"colorscale\":[[0.0,\"#0d0887\"],[0.1111111111111111,\"#46039f\"],[0.2222222222222222,\"#7201a8\"],[0.3333333333333333,\"#9c179e\"],[0.4444444444444444,\"#bd3786\"],[0.5555555555555556,\"#d8576b\"],[0.6666666666666666,\"#ed7953\"],[0.7777777777777778,\"#fb9f3a\"],[0.8888888888888888,\"#fdca26\"],[1.0,\"#f0f921\"]]}],\"contourcarpet\":[{\"type\":\"contourcarpet\",\"colorbar\":{\"outlinewidth\":0,\"ticks\":\"\"}}],\"contour\":[{\"type\":\"contour\",\"colorbar\":{\"outlinewidth\":0,\"ticks\":\"\"},\"colorscale\":[[0.0,\"#0d0887\"],[0.1111111111111111,\"#46039f\"],[0.2222222222222222,\"#7201a8\"],[0.3333333333333333,\"#9c179e\"],[0.4444444444444444,\"#bd3786\"],[0.5555555555555556,\"#d8576b\"],[0.6666666666666666,\"#ed7953\"],[0.7777777777777778,\"#fb9f3a\"],[0.8888888888888888,\"#fdca26\"],[1.0,\"#f0f921\"]]}],\"surface\":[{\"type\":\"surface\",\"colorbar\":{\"outlinewidth\":0,\"ticks\":\"\"},\"colorscale\":[[0.0,\"#0d0887\"],[0.1111111111111111,\"#46039f\"],[0.2222222222222222,\"#7201a8\"],[0.3333333333333333,\"#9c179e\"],[0.4444444444444444,\"#bd3786\"],[0.5555555555555556,\"#d8576b\"],[0.6666666666666666,\"#ed7953\"],[0.7777777777777778,\"#fb9f3a\"],[0.8888888888888888,\"#fdca26\"],[1.0,\"#f0f921\"]]}],\"mesh3d\":[{\"type\":\"mesh3d\",\"colorbar\":{\"outlinewidth\":0,\"ticks\":\"\"}}],\"scatter\":[{\"fillpattern\":{\"fillmode\":\"overlay\",\"size\":10,\"solidity\":0.2},\"type\":\"scatter\"}],\"parcoords\":[{\"type\":\"parcoords\",\"line\":{\"colorbar\":{\"outlinewidth\":0,\"ticks\":\"\"}}}],\"scatterpolargl\":[{\"type\":\"scatterpolargl\",\"marker\":{\"colorbar\":{\"outlinewidth\":0,\"ticks\":\"\"}}}],\"bar\":[{\"error_x\":{\"color\":\"#2a3f5f\"},\"error_y\":{\"color\":\"#2a3f5f\"},\"marker\":{\"line\":{\"color\":\"#E5ECF6\",\"width\":0.5},\"pattern\":{\"fillmode\":\"overlay\",\"size\":10,\"solidity\":0.2}},\"type\":\"bar\"}],\"scattergeo\":[{\"type\":\"scattergeo\",\"marker\":{\"colorbar\":{\"outlinewidth\":0,\"ticks\":\"\"}}}],\"scatterpolar\":[{\"type\":\"scatterpolar\",\"marker\":{\"colorbar\":{\"outlinewidth\":0,\"ticks\":\"\"}}}],\"histogram\":[{\"marker\":{\"pattern\":{\"fillmode\":\"overlay\",\"size\":10,\"solidity\":0.2}},\"type\":\"histogram\"}],\"scattergl\":[{\"type\":\"scattergl\",\"marker\":{\"colorbar\":{\"outlinewidth\":0,\"ticks\":\"\"}}}],\"scatter3d\":[{\"type\":\"scatter3d\",\"line\":{\"colorbar\":{\"outlinewidth\":0,\"ticks\":\"\"}},\"marker\":{\"colorbar\":{\"outlinewidth\":0,\"ticks\":\"\"}}}],\"scattermapbox\":[{\"type\":\"scattermapbox\",\"marker\":{\"colorbar\":{\"outlinewidth\":0,\"ticks\":\"\"}}}],\"scatterternary\":[{\"type\":\"scatterternary\",\"marker\":{\"colorbar\":{\"outlinewidth\":0,\"ticks\":\"\"}}}],\"scattercarpet\":[{\"type\":\"scattercarpet\",\"marker\":{\"colorbar\":{\"outlinewidth\":0,\"ticks\":\"\"}}}],\"carpet\":[{\"aaxis\":{\"endlinecolor\":\"#2a3f5f\",\"gridcolor\":\"white\",\"linecolor\":\"white\",\"minorgridcolor\":\"white\",\"startlinecolor\":\"#2a3f5f\"},\"baxis\":{\"endlinecolor\":\"#2a3f5f\",\"gridcolor\":\"white\",\"linecolor\":\"white\",\"minorgridcolor\":\"white\",\"startlinecolor\":\"#2a3f5f\"},\"type\":\"carpet\"}],\"table\":[{\"cells\":{\"fill\":{\"color\":\"#EBF0F8\"},\"line\":{\"color\":\"white\"}},\"header\":{\"fill\":{\"color\":\"#C8D4E3\"},\"line\":{\"color\":\"white\"}},\"type\":\"table\"}],\"barpolar\":[{\"marker\":{\"line\":{\"color\":\"#E5ECF6\",\"width\":0.5},\"pattern\":{\"fillmode\":\"overlay\",\"size\":10,\"solidity\":0.2}},\"type\":\"barpolar\"}],\"pie\":[{\"automargin\":true,\"type\":\"pie\"}]},\"layout\":{\"autotypenumbers\":\"strict\",\"colorway\":[\"#636efa\",\"#EF553B\",\"#00cc96\",\"#ab63fa\",\"#FFA15A\",\"#19d3f3\",\"#FF6692\",\"#B6E880\",\"#FF97FF\",\"#FECB52\"],\"font\":{\"color\":\"#2a3f5f\"},\"hovermode\":\"closest\",\"hoverlabel\":{\"align\":\"left\"},\"paper_bgcolor\":\"white\",\"plot_bgcolor\":\"#E5ECF6\",\"polar\":{\"bgcolor\":\"#E5ECF6\",\"angularaxis\":{\"gridcolor\":\"white\",\"linecolor\":\"white\",\"ticks\":\"\"},\"radialaxis\":{\"gridcolor\":\"white\",\"linecolor\":\"white\",\"ticks\":\"\"}},\"ternary\":{\"bgcolor\":\"#E5ECF6\",\"aaxis\":{\"gridcolor\":\"white\",\"linecolor\":\"white\",\"ticks\":\"\"},\"baxis\":{\"gridcolor\":\"white\",\"linecolor\":\"white\",\"ticks\":\"\"},\"caxis\":{\"gridcolor\":\"white\",\"linecolor\":\"white\",\"ticks\":\"\"}},\"coloraxis\":{\"colorbar\":{\"outlinewidth\":0,\"ticks\":\"\"}},\"colorscale\":{\"sequential\":[[0.0,\"#0d0887\"],[0.1111111111111111,\"#46039f\"],[0.2222222222222222,\"#7201a8\"],[0.3333333333333333,\"#9c179e\"],[0.4444444444444444,\"#bd3786\"],[0.5555555555555556,\"#d8576b\"],[0.6666666666666666,\"#ed7953\"],[0.7777777777777778,\"#fb9f3a\"],[0.8888888888888888,\"#fdca26\"],[1.0,\"#f0f921\"]],\"sequentialminus\":[[0.0,\"#0d0887\"],[0.1111111111111111,\"#46039f\"],[0.2222222222222222,\"#7201a8\"],[0.3333333333333333,\"#9c179e\"],[0.4444444444444444,\"#bd3786\"],[0.5555555555555556,\"#d8576b\"],[0.6666666666666666,\"#ed7953\"],[0.7777777777777778,\"#fb9f3a\"],[0.8888888888888888,\"#fdca26\"],[1.0,\"#f0f921\"]],\"diverging\":[[0,\"#8e0152\"],[0.1,\"#c51b7d\"],[0.2,\"#de77ae\"],[0.3,\"#f1b6da\"],[0.4,\"#fde0ef\"],[0.5,\"#f7f7f7\"],[0.6,\"#e6f5d0\"],[0.7,\"#b8e186\"],[0.8,\"#7fbc41\"],[0.9,\"#4d9221\"],[1,\"#276419\"]]},\"xaxis\":{\"gridcolor\":\"white\",\"linecolor\":\"white\",\"ticks\":\"\",\"title\":{\"standoff\":15},\"zerolinecolor\":\"white\",\"automargin\":true,\"zerolinewidth\":2},\"yaxis\":{\"gridcolor\":\"white\",\"linecolor\":\"white\",\"ticks\":\"\",\"title\":{\"standoff\":15},\"zerolinecolor\":\"white\",\"automargin\":true,\"zerolinewidth\":2},\"scene\":{\"xaxis\":{\"backgroundcolor\":\"#E5ECF6\",\"gridcolor\":\"white\",\"linecolor\":\"white\",\"showbackground\":true,\"ticks\":\"\",\"zerolinecolor\":\"white\",\"gridwidth\":2},\"yaxis\":{\"backgroundcolor\":\"#E5ECF6\",\"gridcolor\":\"white\",\"linecolor\":\"white\",\"showbackground\":true,\"ticks\":\"\",\"zerolinecolor\":\"white\",\"gridwidth\":2},\"zaxis\":{\"backgroundcolor\":\"#E5ECF6\",\"gridcolor\":\"white\",\"linecolor\":\"white\",\"showbackground\":true,\"ticks\":\"\",\"zerolinecolor\":\"white\",\"gridwidth\":2}},\"shapedefaults\":{\"line\":{\"color\":\"#2a3f5f\"}},\"annotationdefaults\":{\"arrowcolor\":\"#2a3f5f\",\"arrowhead\":0,\"arrowwidth\":1},\"geo\":{\"bgcolor\":\"white\",\"landcolor\":\"#E5ECF6\",\"subunitcolor\":\"white\",\"showland\":true,\"showlakes\":true,\"lakecolor\":\"white\"},\"title\":{\"x\":0.05},\"mapbox\":{\"style\":\"light\"}}},\"title\":{\"text\":\"Average World Sea Level by Year\"},\"annotations\":[{\"showarrow\":false,\"text\":\"(1992-2024)\",\"y\":1.24,\"yref\":\"paper\"}],\"xaxis\":{\"rangeslider\":{\"visible\":true},\"rangeselector\":{\"buttons\":[{\"count\":11,\"label\":\"10Y\",\"step\":\"year\",\"stepmode\":\"backward\"},{\"count\":21,\"label\":\"20Y\",\"step\":\"year\",\"stepmode\":\"backward\"},{\"count\":30,\"label\":\"30Y\",\"step\":\"year\",\"stepmode\":\"backward\"},{\"label\":\"All\",\"step\":\"all\"}]},\"type\":\"date\"}},                        {\"responsive\": true}                    ).then(function(){\n",
              "                            \n",
              "var gd = document.getElementById('8fa8a2d3-dfa2-4daa-8d11-baf95228d71b');\n",
              "var x = new MutationObserver(function (mutations, observer) {{\n",
              "        var display = window.getComputedStyle(gd).display;\n",
              "        if (!display || display === 'none') {{\n",
              "            console.log([gd, 'removed!']);\n",
              "            Plotly.purge(gd);\n",
              "            observer.disconnect();\n",
              "        }}\n",
              "}});\n",
              "\n",
              "// Listen for the removal of the full notebook cells\n",
              "var notebookContainer = gd.closest('#notebook-container');\n",
              "if (notebookContainer) {{\n",
              "    x.observe(notebookContainer, {childList: true});\n",
              "}}\n",
              "\n",
              "// Listen for the clearing of the current output cell\n",
              "var outputEl = gd.closest('.output');\n",
              "if (outputEl) {{\n",
              "    x.observe(outputEl, {childList: true});\n",
              "}}\n",
              "\n",
              "                        })                };                            </script>        </div>\n",
              "</body>\n",
              "</html>"
            ]
          },
          "metadata": {}
        }
      ],
      "source": [
        "import plotly.graph_objects as go\n",
        "import pandas as pd\n",
        "\n",
        "df = pd.read_csv(\"https://raw.githubusercontent.com/NateA-dev/Country-Lifespan-Data/refs/heads/main/Copy%20of%20Change%20in%20Mean%20Sea%20Levels%20-%20Copy%20of%20Copy%20of%20Average%20of%20Years.csv\")\n",
        "\n",
        "fig = go.Figure()\n",
        "\n",
        "fig.update_layout(title_text=\"Average World Sea Level by Year\")\n",
        "fig.update_layout(annotations=[dict(text=\"(1992-2024)\", showarrow=False, y=1.24, yref=\"paper\")])\n",
        "\n",
        "fig.add_trace(go.Scatter(x=list(df.Year), y=list(df.AdriaticSea), name=\"Adriatic Sea\", visible=\"legendonly\"))\n",
        "fig.add_trace(go.Scatter(x=list(df.Year), y=list(df.IndianOcean), name=\"Indian Ocean\", legendrank=4))\n",
        "fig.add_trace(go.Scatter(x=list(df.Year), y=list(df.Mediterranean), name=\"Mediterranean Sea\", legendrank=3))\n",
        "fig.add_trace(go.Scatter(x=list(df.Year), y=list(df.AtlanticOcean), name=\"Atlantic Ocean\", legendrank=2))\n",
        "fig.add_trace(go.Scatter(x=list(df.Year), y=list(df.PacificOcean), name=\"Pacific Ocean\", legendrank=1))\n",
        "fig.add_trace(go.Scatter(x=list(df.Year), y=list(df.World), name=\"World\",visible=\"legendonly\", line=dict(dash=\"dash\"), legendrank=0))\n",
        "fig.add_trace(go.Scatter(x=list(df.Year), y=list(df.GulfMexico), name=\"Gulf of Mexico\", visible=\"legendonly\"))\n",
        "fig.add_trace(go.Scatter(x=list(df.Year), y=list(df.SeaJapan), name=\"Sea of Japan\", visible=\"legendonly\"))\n",
        "fig.add_trace(go.Scatter(x=list(df.Year), y=list(df.BalticSea), name=\"Baltic Sea\", visible=\"legendonly\"))\n",
        "\n",
        "fig.update_layout(xaxis=dict(rangeselector=dict(buttons=list([\n",
        "    dict(count=11, label=\"10Y\",step=\"year\", stepmode=\"backward\"),\n",
        "    dict(count=21, label=\"20Y\", step=\"year\",stepmode=\"backward\"),\n",
        "    dict(count=30, label=\"30Y\", step=\"year\", stepmode=\"backward\"),\n",
        "    dict(step=\"all\", label=\"All\")\n",
        "    ])),rangeslider=dict(visible=True),type=\"date\"))\n",
        "\n",
        "fig.show()"
      ]
    },
    {
      "cell_type": "code",
      "source": [],
      "metadata": {
        "id": "KBa3YT72sjil"
      },
      "execution_count": null,
      "outputs": []
    }
  ]
}